{
  "nbformat": 4,
  "nbformat_minor": 0,
  "metadata": {
    "colab": {
      "provenance": []
    },
    "kernelspec": {
      "name": "python3",
      "display_name": "Python 3"
    },
    "language_info": {
      "name": "python"
    }
  },
  "cells": [
    {
      "cell_type": "markdown",
      "source": [
        "# Tablero L's solución con backtrack"
      ],
      "metadata": {
        "id": "_POFQSan4yIO"
      }
    },
    {
      "cell_type": "code",
      "execution_count": null,
      "metadata": {
        "id": "c2-S_vBTFrv-"
      },
      "outputs": [],
      "source": [
        "# Quizás convenga preprocesar E como diccionario\n",
        "# de columnas, cuyos valores sean las filas con\n",
        "# estorbo.\n",
        "def max_eles(n,E):\n",
        "  def hay_estorbo(i,j,E):\n",
        "    return (i,j) in E\n",
        "\n",
        "  def puntos_azules(n,E):\n",
        "    PA=[]\n",
        "    for j in range(n-1):\n",
        "      for i in range(3):\n",
        "         if (not hay_estorbo(i,j,E)) and (not hay_estorbo(i+1,j,E)) and (not hay_estorbo(i+1,j+1,E)):\n",
        "          PA.append((i,j))\n",
        "    return PA\n",
        "\n",
        "  PA=puntos_azules(n,E)\n",
        "  print(PA)\n",
        "\n",
        "  def bt_llenado(v,PA,maximo,max_acomodo):\n",
        "    # print(v)\n",
        "    if sum(v)>maximo:\n",
        "      maximo, max_acomodo=sum(v),v.copy()\n",
        "    if len(v)==len(PA):\n",
        "      return [maximo, max_acomodo]\n",
        "    candidatos=[0]\n",
        "    pos_piezas_puestas=[]\n",
        "    for k in range(0,len(v)):\n",
        "      if v[k]==1:\n",
        "        pos_piezas_puestas.append(PA[k])\n",
        "    set_puestas=set(pos_piezas_puestas)\n",
        "    i=PA[len(v)][0]\n",
        "    j=PA[len(v)][1]\n",
        "    set_malo=set([(i-1,j-1),(i-1,j),(i,j-1),(i,j+1),(i+1,j),(i+1,j+1)])\n",
        "    if set_malo.intersection(set_puestas) == set():\n",
        "      # print(\"Sí agregaré 1 pues el set malo es\", set_malo, \"las puestas son\", set_puestas, \"y la nueva posicion es\", i, j)\n",
        "      candidatos.append(1)\n",
        "    for cand in candidatos:\n",
        "      v.append(cand)\n",
        "      maximo, max_acomodo = bt_llenado(v,PA,maximo,max_acomodo)\n",
        "      v.pop()\n",
        "    return [maximo, max_acomodo]\n",
        "\n",
        "  maximo, max_acomodo = bt_llenado([],PA,0,[])\n",
        "\n",
        "  return maximo, max_acomodo, puntos_azules(n,E)"
      ]
    },
    {
      "cell_type": "code",
      "source": [
        "estorbos=[(0,1),(0,3),(2,1),(2,2),(2,6),(3,3),(1,5), (2,8), (3,9), (3,5)]\n",
        "maximo,max_acomodo,PA= max_eles(10,estorbos)\n",
        "\n",
        "print(\"El máximo es\", maximo)\n",
        "print(\"El acomodo es\", max_acomodo)\n",
        "print(\"Las posiciones azules son\", PA)"
      ],
      "metadata": {
        "colab": {
          "base_uri": "https://localhost:8080/"
        },
        "id": "_8YckwYQIJNA",
        "outputId": "f8253a49-5f7b-43ad-b49d-f9c2de721523"
      },
      "execution_count": null,
      "outputs": [
        {
          "output_type": "stream",
          "name": "stdout",
          "text": [
            "[(0, 0), (2, 0), (0, 2), (1, 3), (1, 4), (0, 6), (0, 7), (2, 7), (0, 8)]\n",
            "El máximo es 7\n",
            "El acomodo es [1, 1, 1, 0, 1, 1, 0, 1, 1]\n",
            "Las posiciones azules son [(0, 0), (2, 0), (0, 2), (1, 3), (1, 4), (0, 6), (0, 7), (2, 7), (0, 8)]\n"
          ]
        }
      ]
    },
    {
      "cell_type": "markdown",
      "source": [
        "# Dibujar el tablero"
      ],
      "metadata": {
        "id": "_fqBe5nS5e0M"
      }
    },
    {
      "cell_type": "code",
      "source": [
        "import matplotlib.pyplot as plt\n",
        "from matplotlib.patches import Polygon\n",
        "\n",
        "\n",
        "# Dimensiones del tablero\n",
        "filas = 4\n",
        "columnas = 10\n",
        "\n",
        "# Crear una matriz de ceros para representar el tablero\n",
        "tablero = np.zeros((filas, columnas))\n",
        "\n",
        "# Dibujar las líneas del tablero\n",
        "fig, ax = plt.subplots()\n",
        "ax.matshow(tablero, cmap='binary') # Para que sea blanco y negro\n",
        "\n",
        "# Personalizar el tablero\n",
        "for i in range(filas + 1):\n",
        "    ax.axhline(y=i - 0.5, color='black', linewidth=2)\n",
        "for j in range(columnas + 1):\n",
        "    ax.axvline(x=j - 0.5, color='black', linewidth=2)\n",
        "\n",
        "# Ajustar el tamaño de la figura\n",
        "fig.set_size_inches(columnas/2, filas/2)\n",
        "plt.xticks([])\n",
        "plt.yticks([])\n",
        "\n",
        "# Dibujar una X en cada posición de los estorbos\n",
        "\n",
        "for estorbo in estorbos:\n",
        "    i, j = estorbo\n",
        "    i-=0.5\n",
        "    j-=0.5\n",
        "    xs=[j,j+1,j+1,j,j]\n",
        "    ys=[i,i,i+1,i+1,i]\n",
        "\n",
        "    # Crear lista de 6 colores distinguibles:\n",
        "    colores = ['red', 'orange', 'yellow', 'green', 'blue', 'purple']\n",
        "    color = colores[int(i+3*j) % len(colores)]\n",
        "\n",
        "    # Hacer polígono con vértices en un cuadrado alrededor del estorbo\n",
        "    # ax.text(j, i, 'X', ha='center', va='center', color='red')\n",
        "\n",
        "    p=Polygon(list(zip(xs,ys)),color=\"grey\",alpha=0.5)\n",
        "    ax.add_patch(p)\n",
        "\n",
        "    # Dibujar la L, que es un poligonal con pasos derecha, abajo, derecha, abajo, izquierda, izquierda, arriba, arriba. Llenar con rojo transparente.\n",
        "    ax.plot([j, j+1, j+1, j, j, j], [i, i, i+1, i+1, i, i], linewidth=4, color=\"black\")\n",
        "\n",
        "# Dibujar un círculo azul en cada posición de los puntos azules\n",
        "\n",
        "for k in range(len(PA)):\n",
        "    i, j = PA[k]\n",
        "    if max_acomodo[k] == 1:\n",
        "      ax.text(j, i, '1', ha='center', va='center', color='blue')\n",
        "    else:\n",
        "      ax.text(j, i, '0', ha='center', va='center', color='red')\n",
        "\n",
        "# Dibujar una L de cuadrados en cada posición de PA, siempre y cuando haya un 1 en max_acomodo\n",
        "\n",
        "for k in range(len(max_acomodo)):\n",
        "    if max_acomodo[k] == 1:\n",
        "        i, j = PA[k]\n",
        "        i-=0.5\n",
        "        j-=0.5\n",
        "        xs=[j,j+1,j+1,j+2,j+2,j+1,j,j,j]\n",
        "        ys=[i,i,i+1,i+1,i+2,i+2,i+2,i+1,i]\n",
        "\n",
        "        # Crear lista de 6 colores distinguibles:\n",
        "        colores = ['red', 'orange', 'yellow', 'green', 'blue', 'purple']\n",
        "        color = colores[int(i+2*j) % len(colores)]\n",
        "\n",
        "        p=Polygon(list(zip(xs,ys)),color=color,alpha=0.5)\n",
        "        ax.add_patch(p)\n",
        "\n",
        "        # Dibujar la L, que es un poligonal con pasos derecha, abajo, derecha, abajo, izquierda, izquierda, arriba, arriba. Llenar con rojo transparente.\n",
        "        ax.plot([j, j+1, j+1, j+2, j+2, j+1, j, j, j], [i, i, i+1, i+1, i+2, i+2, i+2, i+1, i], linewidth=4, color=\"black\")\n",
        "\n",
        "        # Llenar poligonal\n",
        "\n",
        "# Mostrar el tablero\n",
        "plt.show()"
      ],
      "metadata": {
        "colab": {
          "base_uri": "https://localhost:8080/",
          "height": 191
        },
        "id": "n5blkWof5jc8",
        "outputId": "3e3cddcf-c370-4f6b-ad49-1e2e1b6792e5"
      },
      "execution_count": null,
      "outputs": [
        {
          "output_type": "display_data",
          "data": {
            "text/plain": [
              "<Figure size 500x200 with 1 Axes>"
            ],
            "image/png": "[encoded data removed]"
          },
          "metadata": {}
        }
      ]
    },
    {
      "cell_type": "markdown",
      "source": [
        "# Tablero L's solución con programación dinámica"
      ],
      "metadata": {
        "id": "aUm2TOhx5Wmd"
      }
    },
    {
      "cell_type": "code",
      "source": [
        "def max_eles_PD(n,E):\n",
        "  def hay_estorbo(i,j,E):\n",
        "    return (i,j) in E\n",
        "\n",
        "  tabla_PD={}\n",
        "\n",
        "  def recursion(n,E):\n",
        "    if n==1:\n",
        "      return 0\n",
        "    elif (n,frozenset(E)) in tabla_PD.keys():\n",
        "      return tabla_PD[(n,frozenset(E))]\n",
        "    else:\n",
        "      mejor_caso=[0,0,0,0,0]\n",
        "      estorbos_primera=[]\n",
        "      estorbos_segunda=[]\n",
        "      estorbos_rec=[]\n",
        "      for estorbo in E:\n",
        "        if estorbo[1]==0:\n",
        "          estorbos_primera.append(estorbo)\n",
        "        else:\n",
        "          if estorbo[1]==1:\n",
        "            estorbos_segunda.append(estorbo)\n",
        "          estorbos_rec.append((estorbo[0],estorbo[1]-1))\n",
        "\n",
        "      # Caso de no poner nada en la primera columna\n",
        "      mejor_caso[0]=recursion(n-1,estorbos_rec)\n",
        "\n",
        "      # Poner L hasta arriba\n",
        "      if (not(hay_estorbo(0,0,E))) and (not(hay_estorbo(1,0,E))) and (not(hay_estorbo(1,1,E))):\n",
        "        estorbos_caso=estorbos_rec.copy()\n",
        "        estorbos_caso.append((1,0))\n",
        "        mejor_caso[1]=1+recursion(n-1,estorbos_caso)\n",
        "\n",
        "      # Poner L enmedio\n",
        "\n",
        "      if (not(hay_estorbo(1,0,E))) and (not(hay_estorbo(2,0,E))) and (not(hay_estorbo(2,1,E))):\n",
        "        estorbos_caso=estorbos_rec.copy()\n",
        "        estorbos_caso.append((2,0))\n",
        "        mejor_caso[2]=1+recursion(n-1,estorbos_caso)\n",
        "\n",
        "      # Poner L hasta abajo\n",
        "\n",
        "      if (not(hay_estorbo(2,0,E))) and (not(hay_estorbo(3,0,E))) and (not(hay_estorbo(3,1,E))):\n",
        "        estorbos_caso=estorbos_rec.copy()\n",
        "        estorbos_caso.append((3,0))\n",
        "        mejor_caso[3]=1+recursion(n-1,estorbos_caso)\n",
        "\n",
        "      # Poner L hasta arriba\n",
        "\n",
        "      if (not(hay_estorbo(0,0,E))) and (not(hay_estorbo(1,0,E))) and (not(hay_estorbo(1,1,E))) and (not(hay_estorbo(2,0,E))) and (not(hay_estorbo(3,0,E))) and (not(hay_estorbo(3,1,E))):\n",
        "        estorbos_caso=estorbos_rec.copy()\n",
        "        estorbos_caso.append((3,0))\n",
        "        estorbos_caso.append((1,0))\n",
        "        mejor_caso[4]=2+recursion(n-1,estorbos_caso)\n",
        "\n",
        "    lo_mejor=max(mejor_caso)\n",
        "    tabla_PD[(n,frozenset(E))]=lo_mejor\n",
        "    return lo_mejor\n",
        "\n",
        "  return recursion(n,E)\n"
      ],
      "metadata": {
        "id": "-eC36YdcP0ov"
      },
      "execution_count": null,
      "outputs": []
    },
    {
      "cell_type": "code",
      "source": [
        "maximo=max_eles_PD(7,[(0,1),(0,3),(2,1),(2,2),(2,6),(3,3)])"
      ],
      "metadata": {
        "id": "g18az8mYPAIS"
      },
      "execution_count": null,
      "outputs": []
    },
    {
      "cell_type": "code",
      "source": [
        "print(maximo)"
      ],
      "metadata": {
        "colab": {
          "base_uri": "https://localhost:8080/"
        },
        "id": "x2hFt3F3Ugwu",
        "outputId": "cb57afb6-f419-4b3f-c953-2a682c82993c"
      },
      "execution_count": null,
      "outputs": [
        {
          "output_type": "stream",
          "name": "stdout",
          "text": [
            "5\n"
          ]
        }
      ]
    },
    {
      "cell_type": "markdown",
      "source": [
        "# Medir tiempo de la programación dinámica"
      ],
      "metadata": {
        "id": "BKPT0E_15Mav"
      }
    },
    {
      "cell_type": "code",
      "source": [
        "from datetime import datetime\n",
        "import matplotlib.pyplot as plt\n",
        "import numpy as np\n",
        "\n",
        "tiempos=[]\n",
        "\n",
        "for n in range(1,300,10):\n",
        "  inicio=datetime.now()\n",
        "  if n%100==1:\n",
        "    print(n, inicio)\n",
        "  primera_fila=[(0,3*j) for j in range(0,n)]\n",
        "  segunda_fila=[(1,3*j) for j in range(0,n)]\n",
        "  cuarta_fila=[(3,3*j) for j in range(0,n)]\n",
        "  instancia=primera_fila+segunda_fila+cuarta_fila\n",
        "  max_eles_PD(3*n,instancia)\n",
        "  fin=datetime.now()\n",
        "  tiempos.append((fin-inicio).total_seconds())\n",
        "\n"
      ],
      "metadata": {
        "colab": {
          "base_uri": "https://localhost:8080/"
        },
        "id": "XPEpIy4pUkDD",
        "outputId": "990144f5-c8b6-4cd9-b042-d859f4d98770"
      },
      "execution_count": null,
      "outputs": [
        {
          "output_type": "stream",
          "name": "stdout",
          "text": [
            "1 2024-11-14 18:17:05.724482\n",
            "101 2024-11-14 18:17:06.062908\n",
            "201 2024-11-14 18:17:09.395012\n"
          ]
        }
      ]
    },
    {
      "cell_type": "code",
      "source": [
        "plt.plot(tiempos,label='Tiempo de ejecución')\n",
        "plt.legend()\n",
        "plt.xlabel(\"Tamaño de entrada\")\n",
        "plt.ylabel(\"Tiempo de ejecución (seg.)\")\n",
        "\n",
        "cuadraticoarriba=[0.0008*x**2 for x in range(1,30)]\n",
        "cuadraticoabajo=[0.00001*x**3 for x in range(1,30)]\n",
        "plt.plot(tiempos,label='Tiempo de ejecución')\n",
        "plt.plot(cuadraticoarriba, label='Cota superior')\n",
        "plt.plot(cuadraticoabajo, label= 'Cota inferior')"
      ],
      "metadata": {
        "colab": {
          "base_uri": "https://localhost:8080/",
          "height": 466
        },
        "id": "4MLmVN-3XVvL",
        "outputId": "f8de912a-43f2-4020-83a8-daac91ba7167"
      },
      "execution_count": null,
      "outputs": [
        {
          "output_type": "execute_result",
          "data": {
            "text/plain": [
              "[<matplotlib.lines.Line2D at 0x79cc9d0e57b0>]"
            ]
          },
          "metadata": {},
          "execution_count": 18
        },
        {
          "output_type": "display_data",
          "data": {
            "text/plain": [
              "<Figure size 640x480 with 1 Axes>"
            ],
            "image/png": "[encoded data removed]"
          },
          "metadata": {}
        }
      ]
    },
    {
      "cell_type": "markdown",
      "source": [
        "# Otro ejemplo de backtrack"
      ],
      "metadata": {
        "id": "kBSG0jzw4zrP"
      }
    },
    {
      "cell_type": "code",
      "source": [
        "# Colocar números del 1 al 12 en tablero de 3x3, con cada fila y columna\n",
        "# de suma 18.\n",
        "\n",
        "def BT():\n",
        "  def bt(v, gran_cuenta):\n",
        "    L=len(v)\n",
        "    check={3:[0,1,2],6:[3,4,5],7:[0,3,6],8:[1,4,7],9:[2,5,8]}\n",
        "    if L in check.keys():\n",
        "      if sum(v[j] for j in check[L])!=18:\n",
        "        return gran_cuenta\n",
        "    # Podríamos también checar, por ejemplo, al llenar dos, si esas dos todavía\n",
        "    # podrían completarse a algo que sí sume 12\n",
        "    # check2={2:[0,1], 5:[3,4], 4:[0,3]}\n",
        "    # if L in check2.keys():\n",
        "    #   if sum(v[j] for j in check[L])+12<18:\n",
        "    #     return gran_cuenta\n",
        "    if L==3:\n",
        "      print(v)\n",
        "    if L==9:\n",
        "      gran_cuenta+=1\n",
        "      return gran_cuenta\n",
        "    candidatos=list(range(1,12))\n",
        "    for e in candidatos:\n",
        "      v.append(e)\n",
        "      gran_cuenta=bt(v, gran_cuenta)\n",
        "      v.pop()\n",
        "    return gran_cuenta\n",
        "  gran_cuenta=bt([],0)\n",
        "\n",
        "  return gran_cuenta\n",
        "\n",
        "total=BT()\n",
        "print(total)"
      ],
      "metadata": {
        "id": "zfZsqzKFbMgD"
      },
      "execution_count": null,
      "outputs": []
    }
  ]
}