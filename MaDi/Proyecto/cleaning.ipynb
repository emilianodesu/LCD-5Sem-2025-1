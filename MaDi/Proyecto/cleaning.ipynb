{
 "cells": [
  {
   "cell_type": "code",
   "execution_count": 1,
   "metadata": {},
   "outputs": [],
   "source": [
    "import pandas as pd"
   ]
  },
  {
   "cell_type": "code",
   "execution_count": 2,
   "metadata": {
    "id": "TY_TVjt04-jx"
   },
   "outputs": [],
   "source": [
    "path= './Resources/necesidades_capacitacion_normalized.xlsx'\n",
    "tabla = pd.read_excel(path)"
   ]
  },
  {
   "cell_type": "code",
   "execution_count": 3,
   "metadata": {
    "colab": {
     "base_uri": "https://localhost:8080/",
     "height": 385
    },
    "id": "jpKi6P026Ov_",
    "outputId": "9185a3d6-0620-4012-9bde-aaaf8fb68613"
   },
   "outputs": [
    {
     "data": {
      "text/html": [
       "<div>\n",
       "<style scoped>\n",
       "    .dataframe tbody tr th:only-of-type {\n",
       "        vertical-align: middle;\n",
       "    }\n",
       "\n",
       "    .dataframe tbody tr th {\n",
       "        vertical-align: top;\n",
       "    }\n",
       "\n",
       "    .dataframe thead th {\n",
       "        text-align: right;\n",
       "    }\n",
       "</style>\n",
       "<table border=\"1\" class=\"dataframe\">\n",
       "  <thead>\n",
       "    <tr style=\"text-align: right;\">\n",
       "      <th></th>\n",
       "      <th>id</th>\n",
       "      <th>estado</th>\n",
       "      <th>antiguedad</th>\n",
       "      <th>modalidad</th>\n",
       "      <th>competencia1</th>\n",
       "      <th>competencia2</th>\n",
       "      <th>competencia3</th>\n",
       "    </tr>\n",
       "  </thead>\n",
       "  <tbody>\n",
       "    <tr>\n",
       "      <th>0</th>\n",
       "      <td>1</td>\n",
       "      <td>Chihuahua</td>\n",
       "      <td>1.0</td>\n",
       "      <td>b.\\tDistancia</td>\n",
       "      <td>Selección de personal</td>\n",
       "      <td>NaN</td>\n",
       "      <td>NaN</td>\n",
       "    </tr>\n",
       "    <tr>\n",
       "      <th>1</th>\n",
       "      <td>2</td>\n",
       "      <td>Coahuila</td>\n",
       "      <td>0.0</td>\n",
       "      <td>a.\\tPresencial</td>\n",
       "      <td>Diseño de programas de capacitación</td>\n",
       "      <td>Integración de mesas directivas de casilla o s...</td>\n",
       "      <td>Diseño, mejora y producción de documentación e...</td>\n",
       "    </tr>\n",
       "    <tr>\n",
       "      <th>2</th>\n",
       "      <td>3</td>\n",
       "      <td>Coahuila</td>\n",
       "      <td>10.0</td>\n",
       "      <td>b.\\tDistancia</td>\n",
       "      <td>Construcción de la cartografía electoral</td>\n",
       "      <td>Aplicación de metodología estadística y/o demo...</td>\n",
       "      <td>Operación de las comisiones de vigilancia del ...</td>\n",
       "    </tr>\n",
       "    <tr>\n",
       "      <th>3</th>\n",
       "      <td>4</td>\n",
       "      <td>Coahuila</td>\n",
       "      <td>8.0</td>\n",
       "      <td>b.\\tDistancia</td>\n",
       "      <td>Operación de las comisiones de vigilancia del ...</td>\n",
       "      <td>Construcción de la cartografía electoral</td>\n",
       "      <td>Operación de módulos de atención ciudadana</td>\n",
       "    </tr>\n",
       "  </tbody>\n",
       "</table>\n",
       "</div>"
      ],
      "text/plain": [
       "   id     estado  antiguedad       modalidad  \\\n",
       "0   1  Chihuahua         1.0   b.\\tDistancia   \n",
       "1   2   Coahuila         0.0  a.\\tPresencial   \n",
       "2   3   Coahuila        10.0   b.\\tDistancia   \n",
       "3   4   Coahuila         8.0   b.\\tDistancia   \n",
       "\n",
       "                                        competencia1  \\\n",
       "0                              Selección de personal   \n",
       "1                Diseño de programas de capacitación   \n",
       "2           Construcción de la cartografía electoral   \n",
       "3  Operación de las comisiones de vigilancia del ...   \n",
       "\n",
       "                                        competencia2  \\\n",
       "0                                                NaN   \n",
       "1  Integración de mesas directivas de casilla o s...   \n",
       "2  Aplicación de metodología estadística y/o demo...   \n",
       "3           Construcción de la cartografía electoral   \n",
       "\n",
       "                                        competencia3  \n",
       "0                                                NaN  \n",
       "1  Diseño, mejora y producción de documentación e...  \n",
       "2  Operación de las comisiones de vigilancia del ...  \n",
       "3         Operación de módulos de atención ciudadana  "
      ]
     },
     "execution_count": 3,
     "metadata": {},
     "output_type": "execute_result"
    }
   ],
   "source": [
    "tabla.columns = [\"id\",\"estado\",\"antiguedad\",\"modalidad\",\"competencia1\",\"competencia2\",\"competencia3\"]\n",
    "tabla.head(4)"
   ]
  },
  {
   "cell_type": "code",
   "execution_count": 4,
   "metadata": {
    "id": "bUhryDf66kNa"
   },
   "outputs": [],
   "source": [
    "tabla = pd.melt(\n",
    "    tabla,              # The input DataFrame\n",
    "    id_vars=[\"id\",\"estado\",\"antiguedad\",\"modalidad\"],       # Columns to keep as identifiers (not melted)\n",
    "    value_vars=None,    # Columns to melt; defaults to all except id_vars\n",
    "    var_name='e',      # Name of the new column storing original column names\n",
    "    value_name='value', # Name of the new column storing values\n",
    "    col_level=None,     # For multi-index columns; determines which level to melt\n",
    "    ignore_index=False   # If True, reset index in the resulting DataFrame\n",
    ")"
   ]
  },
  {
   "cell_type": "code",
   "execution_count": 5,
   "metadata": {
    "id": "_j7aTGzr6ti2"
   },
   "outputs": [],
   "source": [
    "tabla=tabla.drop(columns=['e']).dropna()"
   ]
  },
  {
   "cell_type": "code",
   "execution_count": 6,
   "metadata": {
    "colab": {
     "base_uri": "https://localhost:8080/",
     "height": 161
    },
    "id": "-5X2I-Ta0IWA",
    "outputId": "8ad2c292-dec0-4358-c7eb-df419800ab26"
   },
   "outputs": [
    {
     "data": {
      "text/html": [
       "<div>\n",
       "<style scoped>\n",
       "    .dataframe tbody tr th:only-of-type {\n",
       "        vertical-align: middle;\n",
       "    }\n",
       "\n",
       "    .dataframe tbody tr th {\n",
       "        vertical-align: top;\n",
       "    }\n",
       "\n",
       "    .dataframe thead th {\n",
       "        text-align: right;\n",
       "    }\n",
       "</style>\n",
       "<table border=\"1\" class=\"dataframe\">\n",
       "  <thead>\n",
       "    <tr style=\"text-align: right;\">\n",
       "      <th></th>\n",
       "      <th>id</th>\n",
       "      <th>estado</th>\n",
       "      <th>antiguedad</th>\n",
       "      <th>modalidad</th>\n",
       "      <th>value</th>\n",
       "    </tr>\n",
       "  </thead>\n",
       "  <tbody>\n",
       "    <tr>\n",
       "      <th>1</th>\n",
       "      <td>2</td>\n",
       "      <td>Coahuila</td>\n",
       "      <td>0.0</td>\n",
       "      <td>a.\\tPresencial</td>\n",
       "      <td>Diseño de programas de capacitación</td>\n",
       "    </tr>\n",
       "    <tr>\n",
       "      <th>1</th>\n",
       "      <td>2</td>\n",
       "      <td>Coahuila</td>\n",
       "      <td>0.0</td>\n",
       "      <td>a.\\tPresencial</td>\n",
       "      <td>Integración de mesas directivas de casilla o s...</td>\n",
       "    </tr>\n",
       "    <tr>\n",
       "      <th>1</th>\n",
       "      <td>2</td>\n",
       "      <td>Coahuila</td>\n",
       "      <td>0.0</td>\n",
       "      <td>a.\\tPresencial</td>\n",
       "      <td>Diseño, mejora y producción de documentación e...</td>\n",
       "    </tr>\n",
       "  </tbody>\n",
       "</table>\n",
       "</div>"
      ],
      "text/plain": [
       "   id    estado  antiguedad       modalidad  \\\n",
       "1   2  Coahuila         0.0  a.\\tPresencial   \n",
       "1   2  Coahuila         0.0  a.\\tPresencial   \n",
       "1   2  Coahuila         0.0  a.\\tPresencial   \n",
       "\n",
       "                                               value  \n",
       "1                Diseño de programas de capacitación  \n",
       "1  Integración de mesas directivas de casilla o s...  \n",
       "1  Diseño, mejora y producción de documentación e...  "
      ]
     },
     "execution_count": 6,
     "metadata": {},
     "output_type": "execute_result"
    }
   ],
   "source": [
    "tabla[tabla['id']==2]"
   ]
  },
  {
   "cell_type": "code",
   "execution_count": 7,
   "metadata": {
    "id": "wyyELsN10ryy"
   },
   "outputs": [],
   "source": [
    "tabla.to_csv('./Resources/data.csv', index=False)"
   ]
  }
 ],
 "metadata": {
  "colab": {
   "provenance": []
  },
  "kernelspec": {
   "display_name": "Python 3",
   "name": "python3"
  },
  "language_info": {
   "codemirror_mode": {
    "name": "ipython",
    "version": 3
   },
   "file_extension": ".py",
   "mimetype": "text/x-python",
   "name": "python",
   "nbconvert_exporter": "python",
   "pygments_lexer": "ipython3",
   "version": "3.12.7"
  }
 },
 "nbformat": 4,
 "nbformat_minor": 0
}
